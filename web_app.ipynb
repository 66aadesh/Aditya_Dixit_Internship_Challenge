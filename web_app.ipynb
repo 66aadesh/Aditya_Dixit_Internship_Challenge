{
 "cells": [
  {
   "cell_type": "code",
   "execution_count": 1,
   "metadata": {},
   "outputs": [
    {
     "name": "stdout",
     "output_type": "stream",
     "text": [
      " * Serving Flask app '__main__'\n",
      " * Debug mode: on\n"
     ]
    },
    {
     "name": "stderr",
     "output_type": "stream",
     "text": [
      "WARNING: This is a development server. Do not use it in a production deployment. Use a production WSGI server instead.\n",
      " * Running on http://127.0.0.1:5000\n",
      "Press CTRL+C to quit\n",
      " * Restarting with watchdog (windowsapi)\n"
     ]
    },
    {
     "ename": "SystemExit",
     "evalue": "1",
     "output_type": "error",
     "traceback": [
      "An exception has occurred, use %tb to see the full traceback.\n",
      "\u001b[1;31mSystemExit\u001b[0m\u001b[1;31m:\u001b[0m 1\n"
     ]
    },
    {
     "name": "stderr",
     "output_type": "stream",
     "text": [
      "C:\\Users\\Aditya Dixit\\AppData\\Roaming\\Python\\Python311\\site-packages\\IPython\\core\\interactiveshell.py:3516: UserWarning: To exit: use 'exit', 'quit', or Ctrl-D.\n",
      "  warn(\"To exit: use 'exit', 'quit', or Ctrl-D.\", stacklevel=1)\n"
     ]
    }
   ],
   "source": [
    "from flask import Flask, render_template\n",
    "import pandas as pd \n",
    "from datetime import datetime, timedelta\n",
    "\n",
    "app = Flask(__name__)\n",
    "\n",
    "@app.route('/')\n",
    "def display_output():\n",
    "    # Import the data\n",
    "    data = pd.read_csv(r\"C:\\Users\\Aditya Dixit\\Desktop\\Writing works\\PYTHON PRACTICE\\Resolute AI task\\Task3\\data.csv\")\n",
    "    # Basic EDA & Cleaning\n",
    "    data['date'] = pd.to_datetime(data['date'], format= \"%m-%d-%Y\")\n",
    "    data['date'] = data['date'].dt.strftime('%d-%m-%Y')\n",
    "    data['position'] = data['position'].replace('Inside','inside')\n",
    "    data['time'] = data['time'].apply(lambda x: datetime.strptime(x, '%H:%M:%S %p').time())\n",
    "    \n",
    "    # Get unique dates, activities, and positions\n",
    "    dates = sorted(set(data['date']))\n",
    "    activity = set(data['activity'])\n",
    "    positions = set(data['position'])\n",
    "\n",
    "    # Get activity counts for each date\n",
    "    datewise_activity = {}\n",
    "    for d in dates:\n",
    "        activity_count = {}\n",
    "        for act in activity:\n",
    "            act_count = data[(data['date'] == d) & (data['activity'] == act)].shape[0]\n",
    "            activity_count[act] = act_count\n",
    "        datewise_activity[d] = activity_count\n",
    "\n",
    "    # Get the list of pick and place activities\n",
    "    pick = []\n",
    "    place = []\n",
    "    for d in datewise_activity:\n",
    "        pick.append((datewise_activity[d])['picked'])\n",
    "        place.append((datewise_activity[d])['placed'])\n",
    "\n",
    "    # Get the duration\n",
    "    data_16 = data[data['date'] == \"16-01-2024\"]\n",
    "    data_17 = data[data['date'] == \"17-01-2024\"]\n",
    "    data_18 = data[data['date'] == \"18-01-2024\"]\n",
    "\n",
    "    inside_duration = []\n",
    "    outside_duration = []\n",
    "\n",
    "    for p in positions:\n",
    "        if p == \"inside\":\n",
    "            inside_max = max(data_16['time'])\n",
    "            inside_min = min(data_16['time'])\n",
    "            inside_max_dt = datetime.combine(datetime.today(), inside_max)\n",
    "            inside_min_dt = datetime.combine(datetime.today(), inside_min)\n",
    "            inside_diff = inside_max_dt - inside_min_dt\n",
    "            inside_duration.append(inside_diff)\n",
    "            # Repeat the same process for other dates\n",
    "        elif p == 'outside':\n",
    "            # Repeat the same process for outside positions\n",
    "            pass\n",
    "        else:\n",
    "            print(\"Error\")\n",
    "\n",
    "    inside_duration = [str(timedelta) for timedelta in inside_duration]\n",
    "    outside_duration = [str(timedelta) for timedelta in outside_duration]\n",
    "\n",
    "    # Render the template with the output data\n",
    "    return render_template('output.html', dates=dates, pick=pick, place=place, inside_duration=inside_duration, outside_duration=outside_duration)\n",
    "\n",
    "if __name__ == '__main__':\n",
    "    app.run(debug=True)\n"
   ]
  },
  {
   "cell_type": "code",
   "execution_count": 2,
   "metadata": {},
   "outputs": [
    {
     "name": "stdout",
     "output_type": "stream",
     "text": [
      " * Serving Flask app '__main__'\n",
      " * Debug mode: on\n"
     ]
    },
    {
     "name": "stderr",
     "output_type": "stream",
     "text": [
      "WARNING: This is a development server. Do not use it in a production deployment. Use a production WSGI server instead.\n",
      " * Running on http://127.0.0.1:5000\n",
      "Press CTRL+C to quit\n",
      " * Restarting with watchdog (windowsapi)\n"
     ]
    },
    {
     "ename": "SystemExit",
     "evalue": "1",
     "output_type": "error",
     "traceback": [
      "An exception has occurred, use %tb to see the full traceback.\n",
      "\u001b[1;31mSystemExit\u001b[0m\u001b[1;31m:\u001b[0m 1\n"
     ]
    }
   ],
   "source": [
    "from flask import Flask, render_template\n",
    "import pandas as pd \n",
    "from datetime import datetime, timedelta\n",
    "\n",
    "app = Flask(__name__)\n",
    "\n",
    "@app.route('/')\n",
    "def display_output():\n",
    "    try:\n",
    "        # Import the data\n",
    "        data = pd.read_csv(r\"C:\\Users\\Aditya Dixit\\Desktop\\Writing works\\PYTHON PRACTICE\\Resolute AI task\\Task3\\data.csv\")\n",
    "        \n",
    "        # Basic EDA & Cleaning\n",
    "        data['date'] = pd.to_datetime(data['date'], format= \"%m-%d-%Y\")\n",
    "        data['date'] = data['date'].dt.strftime('%d-%m-%Y')\n",
    "        data['position'] = data['position'].replace('Inside','inside')\n",
    "        data['time'] = data['time'].apply(lambda x: datetime.strptime(x, '%H:%M:%S %p').time())\n",
    "        \n",
    "        # Get unique dates, activities, and positions\n",
    "        dates = sorted(set(data['date']))\n",
    "        activity = set(data['activity'])\n",
    "        positions = set(data['position'])\n",
    "\n",
    "        # Get activity counts for each date\n",
    "        datewise_activity = {}\n",
    "        for d in dates:\n",
    "            activity_count = {}\n",
    "            for act in activity:\n",
    "                act_count = data[(data['date'] == d) & (data['activity'] == act)].shape[0]\n",
    "                activity_count[act] = act_count\n",
    "            datewise_activity[d] = activity_count\n",
    "\n",
    "        # Get the list of pick and place activities\n",
    "        pick = []\n",
    "        place = []\n",
    "        for d in datewise_activity:\n",
    "            pick.append((datewise_activity[d]).get('picked', 0))  # Handle missing 'picked' key\n",
    "            place.append((datewise_activity[d]).get('placed', 0))  # Handle missing 'placed' key\n",
    "\n",
    "        # Get the duration\n",
    "        data_16 = data[data['date'] == \"16-01-2024\"]\n",
    "        data_17 = data[data['date'] == \"17-01-2024\"]\n",
    "        data_18 = data[data['date'] == \"18-01-2024\"]\n",
    "\n",
    "        inside_duration = []\n",
    "        outside_duration = []\n",
    "\n",
    "        for p in positions:\n",
    "            if p == \"inside\":\n",
    "                inside_max = max(data_16['time'])\n",
    "                inside_min = min(data_16['time'])\n",
    "                inside_max_dt = datetime.combine(datetime.today(), inside_max)\n",
    "                inside_min_dt = datetime.combine(datetime.today(), inside_min)\n",
    "                inside_diff = inside_max_dt - inside_min_dt\n",
    "                inside_duration.append(inside_diff)\n",
    "                # Repeat the same process for other dates\n",
    "            elif p == 'outside':\n",
    "                # Repeat the same process for outside positions\n",
    "                pass\n",
    "            else:\n",
    "                print(\"Error\")\n",
    "\n",
    "        inside_duration = [str(timedelta) for timedelta in inside_duration]\n",
    "        outside_duration = [str(timedelta) for timedelta in outside_duration]\n",
    "\n",
    "        # Render the template with the output data\n",
    "        return render_template('output.html', dates=dates, pick=pick, place=place, inside_duration=inside_duration, outside_duration=outside_duration)\n",
    "\n",
    "    except Exception as e:\n",
    "        return f\"An error occurred: {str(e)}\"\n",
    "\n",
    "if __name__ == '__main__':\n",
    "    app.run(debug=True)\n"
   ]
  },
  {
   "cell_type": "code",
   "execution_count": 3,
   "metadata": {},
   "outputs": [
    {
     "name": "stdout",
     "output_type": "stream",
     "text": [
      " * Serving Flask app '__main__'\n",
      " * Debug mode: on\n"
     ]
    },
    {
     "name": "stderr",
     "output_type": "stream",
     "text": [
      "WARNING: This is a development server. Do not use it in a production deployment. Use a production WSGI server instead.\n",
      " * Running on http://127.0.0.1:5000\n",
      "Press CTRL+C to quit\n",
      " * Restarting with watchdog (windowsapi)\n"
     ]
    },
    {
     "ename": "SystemExit",
     "evalue": "1",
     "output_type": "error",
     "traceback": [
      "An exception has occurred, use %tb to see the full traceback.\n",
      "\u001b[1;31mSystemExit\u001b[0m\u001b[1;31m:\u001b[0m 1\n"
     ]
    }
   ],
   "source": [
    "from flask import Flask, render_template\n",
    "import pandas as pd \n",
    "from datetime import datetime, timedelta\n",
    "\n",
    "app = Flask(__name__)\n",
    "\n",
    "@app.route('/')\n",
    "def display_output():\n",
    "    try:\n",
    "        # Import the data\n",
    "        data = pd.read_csv(r\"C:\\Users\\Aditya Dixit\\Desktop\\Writing works\\PYTHON PRACTICE\\Resolute AI task\\Task3\\data.csv\")\n",
    "        \n",
    "        # Basic EDA & Cleaning\n",
    "        data['date'] = pd.to_datetime(data['date'], format= \"%m-%d-%Y\")\n",
    "        data['date'] = data['date'].dt.strftime('%d-%m-%Y')\n",
    "        data['position'] = data['position'].replace('Inside','inside')\n",
    "        data['time'] = data['time'].apply(lambda x: datetime.strptime(x, '%H:%M:%S %p').time())\n",
    "        \n",
    "        # Get unique dates, activities, and positions\n",
    "        dates = sorted(set(data['date']))\n",
    "        activity = set(data['activity'])\n",
    "        positions = set(data['position'])\n",
    "\n",
    "        # Get activity counts for each date\n",
    "        datewise_activity = {}\n",
    "        for d in dates:\n",
    "            activity_count = {}\n",
    "            for act in activity:\n",
    "                act_count = data[(data['date'] == d) & (data['activity'] == act)].shape[0]\n",
    "                activity_count[act] = act_count\n",
    "            datewise_activity[d] = activity_count\n",
    "\n",
    "        # Get the list of pick and place activities\n",
    "        pick = []\n",
    "        place = []\n",
    "        for d in datewise_activity:\n",
    "            pick.append(datewise_activity[d].get('picked', 0))  # Handle missing 'picked' key\n",
    "            place.append(datewise_activity[d].get('placed', 0))  # Handle missing 'placed' key\n",
    "\n",
    "        # Get the duration\n",
    "        inside_duration = []\n",
    "        outside_duration = []\n",
    "        for p in positions:\n",
    "            if p == \"inside\":\n",
    "                for date in dates:\n",
    "                    date_data = data[data['date'] == date]\n",
    "                    inside_max = max(date_data['time'])\n",
    "                    inside_min = min(date_data['time'])\n",
    "                    inside_max_dt = datetime.combine(datetime.today(), inside_max)\n",
    "                    inside_min_dt = datetime.combine(datetime.today(), inside_min)\n",
    "                    inside_diff = inside_max_dt - inside_min_dt\n",
    "                    inside_duration.append(str(inside_diff))\n",
    "            elif p == 'outside':\n",
    "                pass  # Repeat the same process for outside positions\n",
    "            else:\n",
    "                print(\"Error: Invalid position\")\n",
    "        \n",
    "        # Render the template with the output data\n",
    "        return render_template('output.html', dates=dates, pick=pick, place=place, inside_duration=inside_duration, outside_duration=outside_duration)\n",
    "    \n",
    "    except Exception as e:\n",
    "        return f\"An error occurred: {str(e)}\"\n",
    "\n",
    "if __name__ == '__main__':\n",
    "    app.run(debug=True)\n"
   ]
  }
 ],
 "metadata": {
  "kernelspec": {
   "display_name": "base",
   "language": "python",
   "name": "python3"
  },
  "language_info": {
   "codemirror_mode": {
    "name": "ipython",
    "version": 3
   },
   "file_extension": ".py",
   "mimetype": "text/x-python",
   "name": "python",
   "nbconvert_exporter": "python",
   "pygments_lexer": "ipython3",
   "version": "3.11.4"
  }
 },
 "nbformat": 4,
 "nbformat_minor": 2
}
