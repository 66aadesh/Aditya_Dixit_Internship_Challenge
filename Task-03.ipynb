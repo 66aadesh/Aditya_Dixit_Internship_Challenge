{
 "cells": [
  {
   "cell_type": "markdown",
   "metadata": {},
   "source": [
    "# Task-03"
   ]
  },
  {
   "cell_type": "markdown",
   "metadata": {},
   "source": [
    "# Import Libraries"
   ]
  },
  {
   "cell_type": "code",
   "execution_count": 1,
   "metadata": {},
   "outputs": [],
   "source": [
    "import pandas as pd \n",
    "from datetime import datetime"
   ]
  },
  {
   "cell_type": "markdown",
   "metadata": {},
   "source": [
    "# Import the data"
   ]
  },
  {
   "cell_type": "code",
   "execution_count": 2,
   "metadata": {},
   "outputs": [],
   "source": [
    "data = pd.read_csv(r\"C:\\Users\\Aditya Dixit\\Desktop\\Writing works\\PYTHON PRACTICE\\Resolute AI task\\Task3\\data.csv\")"
   ]
  },
  {
   "cell_type": "markdown",
   "metadata": {},
   "source": [
    "# Basic EDA & Cleaning"
   ]
  },
  {
   "cell_type": "code",
   "execution_count": 3,
   "metadata": {},
   "outputs": [
    {
     "data": {
      "text/html": [
       "<div>\n",
       "<style scoped>\n",
       "    .dataframe tbody tr th:only-of-type {\n",
       "        vertical-align: middle;\n",
       "    }\n",
       "\n",
       "    .dataframe tbody tr th {\n",
       "        vertical-align: top;\n",
       "    }\n",
       "\n",
       "    .dataframe thead th {\n",
       "        text-align: right;\n",
       "    }\n",
       "</style>\n",
       "<table border=\"1\" class=\"dataframe\">\n",
       "  <thead>\n",
       "    <tr style=\"text-align: right;\">\n",
       "      <th></th>\n",
       "      <th>date</th>\n",
       "      <th>time</th>\n",
       "      <th>sensor</th>\n",
       "      <th>location</th>\n",
       "      <th>number</th>\n",
       "      <th>activity</th>\n",
       "      <th>position</th>\n",
       "      <th>location.1</th>\n",
       "    </tr>\n",
       "  </thead>\n",
       "  <tbody>\n",
       "    <tr>\n",
       "      <th>0</th>\n",
       "      <td>1-16-2024</td>\n",
       "      <td>10:10:30 AM</td>\n",
       "      <td>0.0</td>\n",
       "      <td>A1</td>\n",
       "      <td>1</td>\n",
       "      <td>placed</td>\n",
       "      <td>inside</td>\n",
       "      <td>A1</td>\n",
       "    </tr>\n",
       "    <tr>\n",
       "      <th>1</th>\n",
       "      <td>1-16-2024</td>\n",
       "      <td>10:12:30 AM</td>\n",
       "      <td>1.0</td>\n",
       "      <td>A2</td>\n",
       "      <td>1</td>\n",
       "      <td>picked</td>\n",
       "      <td>inside</td>\n",
       "      <td>A2</td>\n",
       "    </tr>\n",
       "    <tr>\n",
       "      <th>2</th>\n",
       "      <td>1-16-2024</td>\n",
       "      <td>10:28:30 AM</td>\n",
       "      <td>1.0</td>\n",
       "      <td>A3</td>\n",
       "      <td>1</td>\n",
       "      <td>picked</td>\n",
       "      <td>Inside</td>\n",
       "      <td>A3</td>\n",
       "    </tr>\n",
       "    <tr>\n",
       "      <th>3</th>\n",
       "      <td>1-16-2024</td>\n",
       "      <td>10:38:20 AM</td>\n",
       "      <td>0.0</td>\n",
       "      <td>A4</td>\n",
       "      <td>1</td>\n",
       "      <td>placed</td>\n",
       "      <td>Inside</td>\n",
       "      <td>A4</td>\n",
       "    </tr>\n",
       "    <tr>\n",
       "      <th>4</th>\n",
       "      <td>1-16-2024</td>\n",
       "      <td>10:45:20 AM</td>\n",
       "      <td>1.0</td>\n",
       "      <td>A5</td>\n",
       "      <td>1</td>\n",
       "      <td>placed</td>\n",
       "      <td>inside</td>\n",
       "      <td>A5</td>\n",
       "    </tr>\n",
       "    <tr>\n",
       "      <th>...</th>\n",
       "      <td>...</td>\n",
       "      <td>...</td>\n",
       "      <td>...</td>\n",
       "      <td>...</td>\n",
       "      <td>...</td>\n",
       "      <td>...</td>\n",
       "      <td>...</td>\n",
       "      <td>...</td>\n",
       "    </tr>\n",
       "    <tr>\n",
       "      <th>170</th>\n",
       "      <td>1-18-2024</td>\n",
       "      <td>12:45:05 PM</td>\n",
       "      <td>0.0</td>\n",
       "      <td>A8</td>\n",
       "      <td>2</td>\n",
       "      <td>placed</td>\n",
       "      <td>inside</td>\n",
       "      <td>A8</td>\n",
       "    </tr>\n",
       "    <tr>\n",
       "      <th>171</th>\n",
       "      <td>1-18-2024</td>\n",
       "      <td>12:53:10 PM</td>\n",
       "      <td>1.0</td>\n",
       "      <td>A9</td>\n",
       "      <td>2</td>\n",
       "      <td>picked</td>\n",
       "      <td>inside</td>\n",
       "      <td>A9</td>\n",
       "    </tr>\n",
       "    <tr>\n",
       "      <th>172</th>\n",
       "      <td>1-18-2024</td>\n",
       "      <td>12:59:10 PM</td>\n",
       "      <td>1.0</td>\n",
       "      <td>A10</td>\n",
       "      <td>2</td>\n",
       "      <td>placed</td>\n",
       "      <td>outside</td>\n",
       "      <td>A10</td>\n",
       "    </tr>\n",
       "    <tr>\n",
       "      <th>173</th>\n",
       "      <td>1-18-2024</td>\n",
       "      <td>1:10:20 PM</td>\n",
       "      <td>1.0</td>\n",
       "      <td>A11</td>\n",
       "      <td>2</td>\n",
       "      <td>picked</td>\n",
       "      <td>Inside</td>\n",
       "      <td>A11</td>\n",
       "    </tr>\n",
       "    <tr>\n",
       "      <th>174</th>\n",
       "      <td>1-18-2024</td>\n",
       "      <td>1:18:30 PM</td>\n",
       "      <td>0.0</td>\n",
       "      <td>A12</td>\n",
       "      <td>2</td>\n",
       "      <td>placed</td>\n",
       "      <td>inside</td>\n",
       "      <td>A12</td>\n",
       "    </tr>\n",
       "  </tbody>\n",
       "</table>\n",
       "<p>175 rows × 8 columns</p>\n",
       "</div>"
      ],
      "text/plain": [
       "          date         time  sensor location  number activity position  \\\n",
       "0    1-16-2024  10:10:30 AM     0.0       A1       1   placed   inside   \n",
       "1    1-16-2024  10:12:30 AM     1.0       A2       1   picked   inside   \n",
       "2    1-16-2024  10:28:30 AM     1.0       A3       1   picked   Inside   \n",
       "3    1-16-2024  10:38:20 AM     0.0       A4       1   placed   Inside   \n",
       "4    1-16-2024  10:45:20 AM     1.0       A5       1   placed   inside   \n",
       "..         ...          ...     ...      ...     ...      ...      ...   \n",
       "170  1-18-2024  12:45:05 PM     0.0       A8       2   placed   inside   \n",
       "171  1-18-2024  12:53:10 PM     1.0       A9       2   picked   inside   \n",
       "172  1-18-2024  12:59:10 PM     1.0      A10       2   placed  outside   \n",
       "173  1-18-2024   1:10:20 PM     1.0      A11       2   picked   Inside   \n",
       "174  1-18-2024   1:18:30 PM     0.0      A12       2   placed   inside   \n",
       "\n",
       "    location.1  \n",
       "0           A1  \n",
       "1           A2  \n",
       "2           A3  \n",
       "3           A4  \n",
       "4           A5  \n",
       "..         ...  \n",
       "170         A8  \n",
       "171         A9  \n",
       "172        A10  \n",
       "173        A11  \n",
       "174        A12  \n",
       "\n",
       "[175 rows x 8 columns]"
      ]
     },
     "execution_count": 3,
     "metadata": {},
     "output_type": "execute_result"
    }
   ],
   "source": [
    "data"
   ]
  },
  {
   "cell_type": "code",
   "execution_count": 4,
   "metadata": {},
   "outputs": [
    {
     "name": "stdout",
     "output_type": "stream",
     "text": [
      "<class 'pandas.core.frame.DataFrame'>\n",
      "RangeIndex: 175 entries, 0 to 174\n",
      "Data columns (total 8 columns):\n",
      " #   Column      Non-Null Count  Dtype  \n",
      "---  ------      --------------  -----  \n",
      " 0   date        175 non-null    object \n",
      " 1   time        175 non-null    object \n",
      " 2   sensor      174 non-null    float64\n",
      " 3   location    175 non-null    object \n",
      " 4   number      175 non-null    int64  \n",
      " 5   activity    175 non-null    object \n",
      " 6   position    175 non-null    object \n",
      " 7   location.1  175 non-null    object \n",
      "dtypes: float64(1), int64(1), object(6)\n",
      "memory usage: 11.1+ KB\n"
     ]
    }
   ],
   "source": [
    "data.info()"
   ]
  },
  {
   "cell_type": "code",
   "execution_count": 5,
   "metadata": {},
   "outputs": [
    {
     "data": {
      "text/html": [
       "<div>\n",
       "<style scoped>\n",
       "    .dataframe tbody tr th:only-of-type {\n",
       "        vertical-align: middle;\n",
       "    }\n",
       "\n",
       "    .dataframe tbody tr th {\n",
       "        vertical-align: top;\n",
       "    }\n",
       "\n",
       "    .dataframe thead th {\n",
       "        text-align: right;\n",
       "    }\n",
       "</style>\n",
       "<table border=\"1\" class=\"dataframe\">\n",
       "  <thead>\n",
       "    <tr style=\"text-align: right;\">\n",
       "      <th></th>\n",
       "      <th>sensor</th>\n",
       "      <th>number</th>\n",
       "    </tr>\n",
       "  </thead>\n",
       "  <tbody>\n",
       "    <tr>\n",
       "      <th>count</th>\n",
       "      <td>174.000000</td>\n",
       "      <td>175.000000</td>\n",
       "    </tr>\n",
       "    <tr>\n",
       "      <th>mean</th>\n",
       "      <td>0.511494</td>\n",
       "      <td>1.165714</td>\n",
       "    </tr>\n",
       "    <tr>\n",
       "      <th>std</th>\n",
       "      <td>0.501310</td>\n",
       "      <td>0.372891</td>\n",
       "    </tr>\n",
       "    <tr>\n",
       "      <th>min</th>\n",
       "      <td>0.000000</td>\n",
       "      <td>1.000000</td>\n",
       "    </tr>\n",
       "    <tr>\n",
       "      <th>25%</th>\n",
       "      <td>0.000000</td>\n",
       "      <td>1.000000</td>\n",
       "    </tr>\n",
       "    <tr>\n",
       "      <th>50%</th>\n",
       "      <td>1.000000</td>\n",
       "      <td>1.000000</td>\n",
       "    </tr>\n",
       "    <tr>\n",
       "      <th>75%</th>\n",
       "      <td>1.000000</td>\n",
       "      <td>1.000000</td>\n",
       "    </tr>\n",
       "    <tr>\n",
       "      <th>max</th>\n",
       "      <td>1.000000</td>\n",
       "      <td>2.000000</td>\n",
       "    </tr>\n",
       "  </tbody>\n",
       "</table>\n",
       "</div>"
      ],
      "text/plain": [
       "           sensor      number\n",
       "count  174.000000  175.000000\n",
       "mean     0.511494    1.165714\n",
       "std      0.501310    0.372891\n",
       "min      0.000000    1.000000\n",
       "25%      0.000000    1.000000\n",
       "50%      1.000000    1.000000\n",
       "75%      1.000000    1.000000\n",
       "max      1.000000    2.000000"
      ]
     },
     "execution_count": 5,
     "metadata": {},
     "output_type": "execute_result"
    }
   ],
   "source": [
    "data.describe()"
   ]
  },
  {
   "cell_type": "code",
   "execution_count": 6,
   "metadata": {},
   "outputs": [
    {
     "data": {
      "text/plain": [
       "0      16-01-2024\n",
       "1      16-01-2024\n",
       "2      16-01-2024\n",
       "3      16-01-2024\n",
       "4      16-01-2024\n",
       "          ...    \n",
       "170    18-01-2024\n",
       "171    18-01-2024\n",
       "172    18-01-2024\n",
       "173    18-01-2024\n",
       "174    18-01-2024\n",
       "Name: date, Length: 175, dtype: object"
      ]
     },
     "execution_count": 6,
     "metadata": {},
     "output_type": "execute_result"
    }
   ],
   "source": [
    "# Convert the 'date' column to datetime format with the original format\n",
    "data['date'] = pd.to_datetime(data['date'], format= \"%m-%d-%Y\")\n",
    "\n",
    "# Convert the 'date' column back to string with the desired format\n",
    "data['date'] = data['date'].dt.strftime('%d-%m-%Y')\n",
    "\n",
    "data['date'] # Updated the date column to dd-mm-yyyy format"
   ]
  },
  {
   "cell_type": "code",
   "execution_count": 7,
   "metadata": {},
   "outputs": [],
   "source": [
    "# Replace the correct value, if required\n",
    "\n",
    "data['position'] = data['position'].replace('Inside','inside')"
   ]
  },
  {
   "cell_type": "code",
   "execution_count": 8,
   "metadata": {},
   "outputs": [],
   "source": [
    "# Change the time format from string\n",
    "\n",
    "data['time'] = data['time'].apply(lambda x: datetime.strptime(x, '%H:%M:%S %p').time())"
   ]
  },
  {
   "cell_type": "code",
   "execution_count": 9,
   "metadata": {},
   "outputs": [
    {
     "data": {
      "text/plain": [
       "datetime.time"
      ]
     },
     "execution_count": 9,
     "metadata": {},
     "output_type": "execute_result"
    }
   ],
   "source": [
    "type(data['time'][0])"
   ]
  },
  {
   "cell_type": "markdown",
   "metadata": {},
   "source": [
    "# Get the specific values to be shown in output"
   ]
  },
  {
   "cell_type": "code",
   "execution_count": 10,
   "metadata": {},
   "outputs": [
    {
     "name": "stdout",
     "output_type": "stream",
     "text": [
      "Unique Date= ['16-01-2024', '17-01-2024', '18-01-2024']\n",
      "Unique Activities= {'placed', 'picked'}\n",
      "Unique Positions= {'inside', 'outside'}\n"
     ]
    }
   ],
   "source": [
    "# Get all the unique dates\n",
    "dates = set(data['date'])\n",
    "print(\"Unique Date=\",sorted(dates))\n",
    "\n",
    "# Get the unique activities\n",
    "activity = set(data['activity'])\n",
    "print(\"Unique Activities=\",activity)\n",
    "\n",
    "# Get the unique positions\n",
    "positions = set(data['position'])\n",
    "print(\"Unique Positions=\",positions)"
   ]
  },
  {
   "cell_type": "code",
   "execution_count": 62,
   "metadata": {},
   "outputs": [
    {
     "data": {
      "text/plain": [
       "{'18-01-2024': 76, '16-01-2024': 80, '17-01-2024': 19}"
      ]
     },
     "execution_count": 62,
     "metadata": {},
     "output_type": "execute_result"
    }
   ],
   "source": [
    "# # Get the counts of each Date\n",
    "no_of_dates = {}\n",
    "\n",
    "for date in dates:\n",
    "    \n",
    "    date1 = data[data['date'] == date].shape[0]\n",
    "\n",
    "    no_of_dates[date] = date1  \n",
    "\n",
    "no_of_dates"
   ]
  },
  {
   "cell_type": "code",
   "execution_count": 12,
   "metadata": {},
   "outputs": [
    {
     "name": "stdout",
     "output_type": "stream",
     "text": [
      "[37, 40, 10]\n",
      "[39, 40, 9]\n"
     ]
    }
   ],
   "source": [
    "# Get the counts of each activity\n",
    "datewise_activity = {}\n",
    "for d in dates:\n",
    "    activity_count = {}  \n",
    "\n",
    "    for act in activity:\n",
    "        act_count = data[(data['date'] == d) & (data['activity'] == act)].shape[0]\n",
    "        activity_count[act] = act_count\n",
    "\n",
    "    datewise_activity[d] = activity_count\n",
    "\n",
    "# Get the list of activity\n",
    "pick = []\n",
    "place = []\n",
    "\n",
    "for d in datewise_activity:\n",
    "\n",
    "    pick.append((datewise_activity[d])['picked'])\n",
    "    place.append((datewise_activity[d])['placed'])\n",
    "\n",
    "print(pick)\n",
    "print(place)"
   ]
  },
  {
   "cell_type": "code",
   "execution_count": 29,
   "metadata": {},
   "outputs": [],
   "source": [
    "data_16_in = data[(data['date'] == \"16-01-2024\") & (data['position'] == 'inside')]\n",
    "data_16_out = data[(data['date'] == \"16-01-2024\") & (data['position'] == 'outside')]\n",
    "\n",
    "data_17_in = data[(data['date'] == \"17-01-2024\") & (data['position'] == 'inside')]\n",
    "data_17_out = data[(data['date'] == \"17-01-2024\") & (data['position'] == 'outside')]\n",
    "\n",
    "data_18_in = data[(data['date'] == \"18-01-2024\") & (data['position'] == 'inside')]\n",
    "data_18_out = data[(data['date'] == \"18-01-2024\") & (data['position'] == 'outside')]"
   ]
  },
  {
   "cell_type": "code",
   "execution_count": 31,
   "metadata": {},
   "outputs": [
    {
     "name": "stdout",
     "output_type": "stream",
     "text": [
      "<class 'pandas.core.frame.DataFrame'>\n",
      "Int64Index: 80 entries, 0 to 79\n",
      "Data columns (total 8 columns):\n",
      " #   Column      Non-Null Count  Dtype  \n",
      "---  ------      --------------  -----  \n",
      " 0   date        80 non-null     object \n",
      " 1   time        80 non-null     object \n",
      " 2   sensor      80 non-null     float64\n",
      " 3   location    80 non-null     object \n",
      " 4   number      80 non-null     int64  \n",
      " 5   activity    80 non-null     object \n",
      " 6   position    80 non-null     object \n",
      " 7   location.1  80 non-null     object \n",
      "dtypes: float64(1), int64(1), object(6)\n",
      "memory usage: 5.6+ KB\n"
     ]
    }
   ],
   "source": [
    "data_16_in.info()"
   ]
  },
  {
   "cell_type": "code",
   "execution_count": 32,
   "metadata": {},
   "outputs": [
    {
     "name": "stdout",
     "output_type": "stream",
     "text": [
      "<class 'pandas.core.frame.DataFrame'>\n",
      "Int64Index: 0 entries\n",
      "Data columns (total 8 columns):\n",
      " #   Column      Non-Null Count  Dtype  \n",
      "---  ------      --------------  -----  \n",
      " 0   date        0 non-null      object \n",
      " 1   time        0 non-null      object \n",
      " 2   sensor      0 non-null      float64\n",
      " 3   location    0 non-null      object \n",
      " 4   number      0 non-null      int64  \n",
      " 5   activity    0 non-null      object \n",
      " 6   position    0 non-null      object \n",
      " 7   location.1  0 non-null      object \n",
      "dtypes: float64(1), int64(1), object(6)\n",
      "memory usage: 0.0+ bytes\n"
     ]
    }
   ],
   "source": [
    "data_16_out.info()"
   ]
  },
  {
   "cell_type": "code",
   "execution_count": 33,
   "metadata": {},
   "outputs": [
    {
     "name": "stdout",
     "output_type": "stream",
     "text": [
      "<class 'pandas.core.frame.DataFrame'>\n",
      "Int64Index: 19 entries, 80 to 98\n",
      "Data columns (total 8 columns):\n",
      " #   Column      Non-Null Count  Dtype  \n",
      "---  ------      --------------  -----  \n",
      " 0   date        19 non-null     object \n",
      " 1   time        19 non-null     object \n",
      " 2   sensor      19 non-null     float64\n",
      " 3   location    19 non-null     object \n",
      " 4   number      19 non-null     int64  \n",
      " 5   activity    19 non-null     object \n",
      " 6   position    19 non-null     object \n",
      " 7   location.1  19 non-null     object \n",
      "dtypes: float64(1), int64(1), object(6)\n",
      "memory usage: 1.3+ KB\n"
     ]
    }
   ],
   "source": [
    "data_17_in.info()"
   ]
  },
  {
   "cell_type": "code",
   "execution_count": 34,
   "metadata": {},
   "outputs": [
    {
     "name": "stdout",
     "output_type": "stream",
     "text": [
      "<class 'pandas.core.frame.DataFrame'>\n",
      "Int64Index: 0 entries\n",
      "Data columns (total 8 columns):\n",
      " #   Column      Non-Null Count  Dtype  \n",
      "---  ------      --------------  -----  \n",
      " 0   date        0 non-null      object \n",
      " 1   time        0 non-null      object \n",
      " 2   sensor      0 non-null      float64\n",
      " 3   location    0 non-null      object \n",
      " 4   number      0 non-null      int64  \n",
      " 5   activity    0 non-null      object \n",
      " 6   position    0 non-null      object \n",
      " 7   location.1  0 non-null      object \n",
      "dtypes: float64(1), int64(1), object(6)\n",
      "memory usage: 0.0+ bytes\n"
     ]
    }
   ],
   "source": [
    "data_17_out.info()"
   ]
  },
  {
   "cell_type": "code",
   "execution_count": 35,
   "metadata": {},
   "outputs": [
    {
     "name": "stdout",
     "output_type": "stream",
     "text": [
      "<class 'pandas.core.frame.DataFrame'>\n",
      "Int64Index: 72 entries, 99 to 174\n",
      "Data columns (total 8 columns):\n",
      " #   Column      Non-Null Count  Dtype  \n",
      "---  ------      --------------  -----  \n",
      " 0   date        72 non-null     object \n",
      " 1   time        72 non-null     object \n",
      " 2   sensor      71 non-null     float64\n",
      " 3   location    72 non-null     object \n",
      " 4   number      72 non-null     int64  \n",
      " 5   activity    72 non-null     object \n",
      " 6   position    72 non-null     object \n",
      " 7   location.1  72 non-null     object \n",
      "dtypes: float64(1), int64(1), object(6)\n",
      "memory usage: 5.1+ KB\n"
     ]
    }
   ],
   "source": [
    "data_18_in.info()"
   ]
  },
  {
   "cell_type": "code",
   "execution_count": 36,
   "metadata": {},
   "outputs": [
    {
     "name": "stdout",
     "output_type": "stream",
     "text": [
      "<class 'pandas.core.frame.DataFrame'>\n",
      "Int64Index: 4 entries, 125 to 172\n",
      "Data columns (total 8 columns):\n",
      " #   Column      Non-Null Count  Dtype  \n",
      "---  ------      --------------  -----  \n",
      " 0   date        4 non-null      object \n",
      " 1   time        4 non-null      object \n",
      " 2   sensor      4 non-null      float64\n",
      " 3   location    4 non-null      object \n",
      " 4   number      4 non-null      int64  \n",
      " 5   activity    4 non-null      object \n",
      " 6   position    4 non-null      object \n",
      " 7   location.1  4 non-null      object \n",
      "dtypes: float64(1), int64(1), object(6)\n",
      "memory usage: 288.0+ bytes\n"
     ]
    }
   ],
   "source": [
    "data_18_out.info()"
   ]
  },
  {
   "cell_type": "code",
   "execution_count": 54,
   "metadata": {},
   "outputs": [],
   "source": [
    "# Get the duration\n",
    "\n",
    "inside_duration = []\n",
    "outside_duration = []\n",
    "\n",
    "# 16 - inside\n",
    "# Find the maximum and minimum time values\n",
    "inside_max = max(data_16_in['time'])\n",
    "inside_min = min(data_16_in['time'])\n",
    "# Convert time objects to datetime objects for subtraction\n",
    "inside_max_dt = datetime.combine(datetime.today(), inside_max)\n",
    "inside_min_dt = datetime.combine(datetime.today(), inside_min)\n",
    "# Calculate the time difference\n",
    "inside_diff = inside_max_dt - inside_min_dt\n",
    "inside_duration.append(inside_diff)\n",
    "\n",
    "# 16 - out\n",
    "outside_duration.append(0)\n",
    "\n",
    "# 17 - inside\n",
    "# Find the maximum and minimum time values\n",
    "inside_max1 = max(data_17_in['time'])\n",
    "inside_min1 = min(data_17_in['time'])\n",
    "# Convert time objects to datetime objects for subtraction\n",
    "inside_max_dt1 = datetime.combine(datetime.today(), inside_max1)\n",
    "inside_min_dt1 = datetime.combine(datetime.today(), inside_min1)\n",
    "# Calculate the time difference\n",
    "inside_diff1 = inside_max_dt1 - inside_min_dt1\n",
    "inside_duration.append(inside_diff1)\n",
    "\n",
    "# 17 - out\n",
    "outside_duration.append(0)\n",
    "\n",
    "# 18 - in\n",
    "# Find the maximum and minimum time values\n",
    "inside_max2 = max(data_18_in['time'])\n",
    "inside_min2 = min(data_18_in['time'])\n",
    "# Convert time objects to datetime objects for subtraction\n",
    "inside_max_dt2 = datetime.combine(datetime.today(), inside_max2)\n",
    "inside_min_dt2 = datetime.combine(datetime.today(), inside_min2)\n",
    "# Calculate the time difference\n",
    "inside_diff2 = inside_max_dt2 - inside_min_dt2\n",
    "inside_duration.append(inside_diff2)\n",
    "\n",
    "# 18 - out\n",
    "# Find the maximum and minimum time values\n",
    "outside_max2 = max(data_18_out['time'])\n",
    "outside_min2 = min(data_18_out['time'])\n",
    "# Convert time objects to datetime objects for subtraction\n",
    "outside_max_dt2 = datetime.combine(datetime.today(), outside_max2)\n",
    "outside_min_dt2 = datetime.combine(datetime.today(), outside_min2)\n",
    "# Calculate the time difference\n",
    "outside_diff2 = outside_max_dt2 - outside_min_dt2\n",
    "outside_duration.append(outside_diff2)"
   ]
  },
  {
   "cell_type": "code",
   "execution_count": 55,
   "metadata": {},
   "outputs": [],
   "source": [
    "inside_duration = [str(timedelta) for timedelta in inside_duration]\n",
    "outside_duration = [str(timedelta) for timedelta in outside_duration]"
   ]
  },
  {
   "cell_type": "code",
   "execution_count": 56,
   "metadata": {},
   "outputs": [
    {
     "data": {
      "text/plain": [
       "['11:59:00', '11:12:00', '11:42:50']"
      ]
     },
     "execution_count": 56,
     "metadata": {},
     "output_type": "execute_result"
    }
   ],
   "source": [
    "inside_duration"
   ]
  },
  {
   "cell_type": "code",
   "execution_count": 57,
   "metadata": {},
   "outputs": [
    {
     "data": {
      "text/plain": [
       "['0', '0', '10:10:50']"
      ]
     },
     "execution_count": 57,
     "metadata": {},
     "output_type": "execute_result"
    }
   ],
   "source": [
    "outside_duration"
   ]
  },
  {
   "cell_type": "markdown",
   "metadata": {},
   "source": [
    "# Final required output"
   ]
  },
  {
   "cell_type": "code",
   "execution_count": 58,
   "metadata": {},
   "outputs": [],
   "source": [
    "output = {'date':sorted(dates), 'pick_activities':pick, 'place_activities':place, 'inside_duration':inside_duration, 'outside_duration':outside_duration}"
   ]
  },
  {
   "cell_type": "code",
   "execution_count": 59,
   "metadata": {},
   "outputs": [],
   "source": [
    "output = pd.DataFrame(output)"
   ]
  },
  {
   "cell_type": "code",
   "execution_count": 60,
   "metadata": {},
   "outputs": [
    {
     "data": {
      "text/html": [
       "<div>\n",
       "<style scoped>\n",
       "    .dataframe tbody tr th:only-of-type {\n",
       "        vertical-align: middle;\n",
       "    }\n",
       "\n",
       "    .dataframe tbody tr th {\n",
       "        vertical-align: top;\n",
       "    }\n",
       "\n",
       "    .dataframe thead th {\n",
       "        text-align: right;\n",
       "    }\n",
       "</style>\n",
       "<table border=\"1\" class=\"dataframe\">\n",
       "  <thead>\n",
       "    <tr style=\"text-align: right;\">\n",
       "      <th></th>\n",
       "      <th>date</th>\n",
       "      <th>pick_activities</th>\n",
       "      <th>place_activities</th>\n",
       "      <th>inside_duration</th>\n",
       "      <th>outside_duration</th>\n",
       "    </tr>\n",
       "  </thead>\n",
       "  <tbody>\n",
       "    <tr>\n",
       "      <th>0</th>\n",
       "      <td>16-01-2024</td>\n",
       "      <td>37</td>\n",
       "      <td>39</td>\n",
       "      <td>11:59:00</td>\n",
       "      <td>0</td>\n",
       "    </tr>\n",
       "    <tr>\n",
       "      <th>1</th>\n",
       "      <td>17-01-2024</td>\n",
       "      <td>40</td>\n",
       "      <td>40</td>\n",
       "      <td>11:12:00</td>\n",
       "      <td>0</td>\n",
       "    </tr>\n",
       "    <tr>\n",
       "      <th>2</th>\n",
       "      <td>18-01-2024</td>\n",
       "      <td>10</td>\n",
       "      <td>9</td>\n",
       "      <td>11:42:50</td>\n",
       "      <td>10:10:50</td>\n",
       "    </tr>\n",
       "  </tbody>\n",
       "</table>\n",
       "</div>"
      ],
      "text/plain": [
       "         date  pick_activities  place_activities inside_duration  \\\n",
       "0  16-01-2024               37                39        11:59:00   \n",
       "1  17-01-2024               40                40        11:12:00   \n",
       "2  18-01-2024               10                 9        11:42:50   \n",
       "\n",
       "  outside_duration  \n",
       "0                0  \n",
       "1                0  \n",
       "2         10:10:50  "
      ]
     },
     "execution_count": 60,
     "metadata": {},
     "output_type": "execute_result"
    }
   ],
   "source": [
    "output"
   ]
  },
  {
   "cell_type": "markdown",
   "metadata": {},
   "source": [
    "# Export the output as a CSV"
   ]
  },
  {
   "cell_type": "code",
   "execution_count": 61,
   "metadata": {},
   "outputs": [],
   "source": [
    "output.to_csv('output.csv', index=False)"
   ]
  }
 ],
 "metadata": {
  "kernelspec": {
   "display_name": "base",
   "language": "python",
   "name": "python3"
  },
  "language_info": {
   "codemirror_mode": {
    "name": "ipython",
    "version": 3
   },
   "file_extension": ".py",
   "mimetype": "text/x-python",
   "name": "python",
   "nbconvert_exporter": "python",
   "pygments_lexer": "ipython3",
   "version": "3.11.4"
  }
 },
 "nbformat": 4,
 "nbformat_minor": 2
}
