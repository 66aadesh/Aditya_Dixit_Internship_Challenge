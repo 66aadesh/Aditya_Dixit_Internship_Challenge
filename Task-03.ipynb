{
 "cells": [
  {
   "cell_type": "markdown",
   "metadata": {},
   "source": [
    "# Task-03"
   ]
  },
  {
   "cell_type": "markdown",
   "metadata": {},
   "source": [
    "# Import Libraries"
   ]
  },
  {
   "cell_type": "code",
   "execution_count": 133,
   "metadata": {},
   "outputs": [],
   "source": [
    "import pandas as pd \n",
    "from datetime import datetime"
   ]
  },
  {
   "cell_type": "markdown",
   "metadata": {},
   "source": [
    "# Import the data"
   ]
  },
  {
   "cell_type": "code",
   "execution_count": 134,
   "metadata": {},
   "outputs": [],
   "source": [
    "data = pd.read_csv(r\"C:\\Users\\Aditya Dixit\\Desktop\\Writing works\\PYTHON PRACTICE\\Resolute AI task\\Task3\\data.csv\")"
   ]
  },
  {
   "cell_type": "markdown",
   "metadata": {},
   "source": [
    "# Basic EDA & Cleaning"
   ]
  },
  {
   "cell_type": "code",
   "execution_count": 135,
   "metadata": {},
   "outputs": [
    {
     "data": {
      "text/html": [
       "<div>\n",
       "<style scoped>\n",
       "    .dataframe tbody tr th:only-of-type {\n",
       "        vertical-align: middle;\n",
       "    }\n",
       "\n",
       "    .dataframe tbody tr th {\n",
       "        vertical-align: top;\n",
       "    }\n",
       "\n",
       "    .dataframe thead th {\n",
       "        text-align: right;\n",
       "    }\n",
       "</style>\n",
       "<table border=\"1\" class=\"dataframe\">\n",
       "  <thead>\n",
       "    <tr style=\"text-align: right;\">\n",
       "      <th></th>\n",
       "      <th>date</th>\n",
       "      <th>time</th>\n",
       "      <th>sensor</th>\n",
       "      <th>location</th>\n",
       "      <th>number</th>\n",
       "      <th>activity</th>\n",
       "      <th>position</th>\n",
       "      <th>location.1</th>\n",
       "    </tr>\n",
       "  </thead>\n",
       "  <tbody>\n",
       "    <tr>\n",
       "      <th>0</th>\n",
       "      <td>1-16-2024</td>\n",
       "      <td>10:10:30 AM</td>\n",
       "      <td>0.0</td>\n",
       "      <td>A1</td>\n",
       "      <td>1</td>\n",
       "      <td>placed</td>\n",
       "      <td>inside</td>\n",
       "      <td>A1</td>\n",
       "    </tr>\n",
       "    <tr>\n",
       "      <th>1</th>\n",
       "      <td>1-16-2024</td>\n",
       "      <td>10:12:30 AM</td>\n",
       "      <td>1.0</td>\n",
       "      <td>A2</td>\n",
       "      <td>1</td>\n",
       "      <td>picked</td>\n",
       "      <td>inside</td>\n",
       "      <td>A2</td>\n",
       "    </tr>\n",
       "    <tr>\n",
       "      <th>2</th>\n",
       "      <td>1-16-2024</td>\n",
       "      <td>10:28:30 AM</td>\n",
       "      <td>1.0</td>\n",
       "      <td>A3</td>\n",
       "      <td>1</td>\n",
       "      <td>picked</td>\n",
       "      <td>Inside</td>\n",
       "      <td>A3</td>\n",
       "    </tr>\n",
       "    <tr>\n",
       "      <th>3</th>\n",
       "      <td>1-16-2024</td>\n",
       "      <td>10:38:20 AM</td>\n",
       "      <td>0.0</td>\n",
       "      <td>A4</td>\n",
       "      <td>1</td>\n",
       "      <td>placed</td>\n",
       "      <td>Inside</td>\n",
       "      <td>A4</td>\n",
       "    </tr>\n",
       "    <tr>\n",
       "      <th>4</th>\n",
       "      <td>1-16-2024</td>\n",
       "      <td>10:45:20 AM</td>\n",
       "      <td>1.0</td>\n",
       "      <td>A5</td>\n",
       "      <td>1</td>\n",
       "      <td>placed</td>\n",
       "      <td>inside</td>\n",
       "      <td>A5</td>\n",
       "    </tr>\n",
       "    <tr>\n",
       "      <th>...</th>\n",
       "      <td>...</td>\n",
       "      <td>...</td>\n",
       "      <td>...</td>\n",
       "      <td>...</td>\n",
       "      <td>...</td>\n",
       "      <td>...</td>\n",
       "      <td>...</td>\n",
       "      <td>...</td>\n",
       "    </tr>\n",
       "    <tr>\n",
       "      <th>170</th>\n",
       "      <td>1-18-2024</td>\n",
       "      <td>12:45:05 PM</td>\n",
       "      <td>0.0</td>\n",
       "      <td>A8</td>\n",
       "      <td>2</td>\n",
       "      <td>placed</td>\n",
       "      <td>inside</td>\n",
       "      <td>A8</td>\n",
       "    </tr>\n",
       "    <tr>\n",
       "      <th>171</th>\n",
       "      <td>1-18-2024</td>\n",
       "      <td>12:53:10 PM</td>\n",
       "      <td>1.0</td>\n",
       "      <td>A9</td>\n",
       "      <td>2</td>\n",
       "      <td>picked</td>\n",
       "      <td>inside</td>\n",
       "      <td>A9</td>\n",
       "    </tr>\n",
       "    <tr>\n",
       "      <th>172</th>\n",
       "      <td>1-18-2024</td>\n",
       "      <td>12:59:10 PM</td>\n",
       "      <td>1.0</td>\n",
       "      <td>A10</td>\n",
       "      <td>2</td>\n",
       "      <td>placed</td>\n",
       "      <td>outside</td>\n",
       "      <td>A10</td>\n",
       "    </tr>\n",
       "    <tr>\n",
       "      <th>173</th>\n",
       "      <td>1-18-2024</td>\n",
       "      <td>1:10:20 PM</td>\n",
       "      <td>1.0</td>\n",
       "      <td>A11</td>\n",
       "      <td>2</td>\n",
       "      <td>picked</td>\n",
       "      <td>Inside</td>\n",
       "      <td>A11</td>\n",
       "    </tr>\n",
       "    <tr>\n",
       "      <th>174</th>\n",
       "      <td>1-18-2024</td>\n",
       "      <td>1:18:30 PM</td>\n",
       "      <td>0.0</td>\n",
       "      <td>A12</td>\n",
       "      <td>2</td>\n",
       "      <td>placed</td>\n",
       "      <td>inside</td>\n",
       "      <td>A12</td>\n",
       "    </tr>\n",
       "  </tbody>\n",
       "</table>\n",
       "<p>175 rows × 8 columns</p>\n",
       "</div>"
      ],
      "text/plain": [
       "          date         time  sensor location  number activity position  \\\n",
       "0    1-16-2024  10:10:30 AM     0.0       A1       1   placed   inside   \n",
       "1    1-16-2024  10:12:30 AM     1.0       A2       1   picked   inside   \n",
       "2    1-16-2024  10:28:30 AM     1.0       A3       1   picked   Inside   \n",
       "3    1-16-2024  10:38:20 AM     0.0       A4       1   placed   Inside   \n",
       "4    1-16-2024  10:45:20 AM     1.0       A5       1   placed   inside   \n",
       "..         ...          ...     ...      ...     ...      ...      ...   \n",
       "170  1-18-2024  12:45:05 PM     0.0       A8       2   placed   inside   \n",
       "171  1-18-2024  12:53:10 PM     1.0       A9       2   picked   inside   \n",
       "172  1-18-2024  12:59:10 PM     1.0      A10       2   placed  outside   \n",
       "173  1-18-2024   1:10:20 PM     1.0      A11       2   picked   Inside   \n",
       "174  1-18-2024   1:18:30 PM     0.0      A12       2   placed   inside   \n",
       "\n",
       "    location.1  \n",
       "0           A1  \n",
       "1           A2  \n",
       "2           A3  \n",
       "3           A4  \n",
       "4           A5  \n",
       "..         ...  \n",
       "170         A8  \n",
       "171         A9  \n",
       "172        A10  \n",
       "173        A11  \n",
       "174        A12  \n",
       "\n",
       "[175 rows x 8 columns]"
      ]
     },
     "execution_count": 135,
     "metadata": {},
     "output_type": "execute_result"
    }
   ],
   "source": [
    "data"
   ]
  },
  {
   "cell_type": "code",
   "execution_count": 136,
   "metadata": {},
   "outputs": [
    {
     "name": "stdout",
     "output_type": "stream",
     "text": [
      "<class 'pandas.core.frame.DataFrame'>\n",
      "RangeIndex: 175 entries, 0 to 174\n",
      "Data columns (total 8 columns):\n",
      " #   Column      Non-Null Count  Dtype  \n",
      "---  ------      --------------  -----  \n",
      " 0   date        175 non-null    object \n",
      " 1   time        175 non-null    object \n",
      " 2   sensor      174 non-null    float64\n",
      " 3   location    175 non-null    object \n",
      " 4   number      175 non-null    int64  \n",
      " 5   activity    175 non-null    object \n",
      " 6   position    175 non-null    object \n",
      " 7   location.1  175 non-null    object \n",
      "dtypes: float64(1), int64(1), object(6)\n",
      "memory usage: 11.1+ KB\n"
     ]
    }
   ],
   "source": [
    "data.info()"
   ]
  },
  {
   "cell_type": "code",
   "execution_count": 137,
   "metadata": {},
   "outputs": [
    {
     "data": {
      "text/html": [
       "<div>\n",
       "<style scoped>\n",
       "    .dataframe tbody tr th:only-of-type {\n",
       "        vertical-align: middle;\n",
       "    }\n",
       "\n",
       "    .dataframe tbody tr th {\n",
       "        vertical-align: top;\n",
       "    }\n",
       "\n",
       "    .dataframe thead th {\n",
       "        text-align: right;\n",
       "    }\n",
       "</style>\n",
       "<table border=\"1\" class=\"dataframe\">\n",
       "  <thead>\n",
       "    <tr style=\"text-align: right;\">\n",
       "      <th></th>\n",
       "      <th>sensor</th>\n",
       "      <th>number</th>\n",
       "    </tr>\n",
       "  </thead>\n",
       "  <tbody>\n",
       "    <tr>\n",
       "      <th>count</th>\n",
       "      <td>174.000000</td>\n",
       "      <td>175.000000</td>\n",
       "    </tr>\n",
       "    <tr>\n",
       "      <th>mean</th>\n",
       "      <td>0.511494</td>\n",
       "      <td>1.165714</td>\n",
       "    </tr>\n",
       "    <tr>\n",
       "      <th>std</th>\n",
       "      <td>0.501310</td>\n",
       "      <td>0.372891</td>\n",
       "    </tr>\n",
       "    <tr>\n",
       "      <th>min</th>\n",
       "      <td>0.000000</td>\n",
       "      <td>1.000000</td>\n",
       "    </tr>\n",
       "    <tr>\n",
       "      <th>25%</th>\n",
       "      <td>0.000000</td>\n",
       "      <td>1.000000</td>\n",
       "    </tr>\n",
       "    <tr>\n",
       "      <th>50%</th>\n",
       "      <td>1.000000</td>\n",
       "      <td>1.000000</td>\n",
       "    </tr>\n",
       "    <tr>\n",
       "      <th>75%</th>\n",
       "      <td>1.000000</td>\n",
       "      <td>1.000000</td>\n",
       "    </tr>\n",
       "    <tr>\n",
       "      <th>max</th>\n",
       "      <td>1.000000</td>\n",
       "      <td>2.000000</td>\n",
       "    </tr>\n",
       "  </tbody>\n",
       "</table>\n",
       "</div>"
      ],
      "text/plain": [
       "           sensor      number\n",
       "count  174.000000  175.000000\n",
       "mean     0.511494    1.165714\n",
       "std      0.501310    0.372891\n",
       "min      0.000000    1.000000\n",
       "25%      0.000000    1.000000\n",
       "50%      1.000000    1.000000\n",
       "75%      1.000000    1.000000\n",
       "max      1.000000    2.000000"
      ]
     },
     "execution_count": 137,
     "metadata": {},
     "output_type": "execute_result"
    }
   ],
   "source": [
    "data.describe()"
   ]
  },
  {
   "cell_type": "code",
   "execution_count": 138,
   "metadata": {},
   "outputs": [
    {
     "data": {
      "text/plain": [
       "0      16-01-2024\n",
       "1      16-01-2024\n",
       "2      16-01-2024\n",
       "3      16-01-2024\n",
       "4      16-01-2024\n",
       "          ...    \n",
       "170    18-01-2024\n",
       "171    18-01-2024\n",
       "172    18-01-2024\n",
       "173    18-01-2024\n",
       "174    18-01-2024\n",
       "Name: date, Length: 175, dtype: object"
      ]
     },
     "execution_count": 138,
     "metadata": {},
     "output_type": "execute_result"
    }
   ],
   "source": [
    "# Convert the 'date' column to datetime format with the original format\n",
    "data['date'] = pd.to_datetime(data['date'], format= \"%m-%d-%Y\")\n",
    "\n",
    "# Convert the 'date' column back to string with the desired format\n",
    "data['date'] = data['date'].dt.strftime('%d-%m-%Y')\n",
    "\n",
    "data['date'] # Updated the date column to dd-mm-yyyy format"
   ]
  },
  {
   "cell_type": "code",
   "execution_count": 139,
   "metadata": {},
   "outputs": [],
   "source": [
    "# Replace the correct value, if required\n",
    "\n",
    "data['position'] = data['position'].replace('Inside','inside')"
   ]
  },
  {
   "cell_type": "code",
   "execution_count": 140,
   "metadata": {},
   "outputs": [],
   "source": [
    "# Change the time format from string\n",
    "\n",
    "data['time'] = data['time'].apply(lambda x: datetime.strptime(x, '%H:%M:%S %p').time())"
   ]
  },
  {
   "cell_type": "code",
   "execution_count": 141,
   "metadata": {},
   "outputs": [
    {
     "data": {
      "text/plain": [
       "datetime.time"
      ]
     },
     "execution_count": 141,
     "metadata": {},
     "output_type": "execute_result"
    }
   ],
   "source": [
    "type(data['time'][0])"
   ]
  },
  {
   "cell_type": "markdown",
   "metadata": {},
   "source": [
    "# Get the specific values to be shown in output"
   ]
  },
  {
   "cell_type": "code",
   "execution_count": 142,
   "metadata": {},
   "outputs": [
    {
     "name": "stdout",
     "output_type": "stream",
     "text": [
      "Unique Date= ['16-01-2024', '17-01-2024', '18-01-2024']\n",
      "Unique Activities= {'placed', 'picked'}\n",
      "Unique Positions= {'inside', 'outside'}\n"
     ]
    }
   ],
   "source": [
    "# Get all the unique dates\n",
    "dates = set(data['date'])\n",
    "print(\"Unique Date=\",sorted(dates))\n",
    "\n",
    "# Get the unique activities\n",
    "activity = set(data['activity'])\n",
    "print(\"Unique Activities=\",activity)\n",
    "\n",
    "# Get the unique positions\n",
    "positions = set(data['position'])\n",
    "print(\"Unique Positions=\",positions)"
   ]
  },
  {
   "cell_type": "code",
   "execution_count": 109,
   "metadata": {},
   "outputs": [],
   "source": [
    "# # Get the counts of each Date\n",
    "# no_of_dates = {}\n",
    "\n",
    "# for date in dates:\n",
    "    \n",
    "#     date1 = data[data['date'] == date].shape[0]\n",
    "\n",
    "#     no_of_dates[date] = date1  \n",
    "\n",
    "# no_of_dates"
   ]
  },
  {
   "cell_type": "code",
   "execution_count": 143,
   "metadata": {},
   "outputs": [
    {
     "name": "stdout",
     "output_type": "stream",
     "text": [
      "[37, 10, 40]\n",
      "[39, 9, 40]\n"
     ]
    }
   ],
   "source": [
    "# Get the counts of each activity\n",
    "datewise_activity = {}\n",
    "for d in dates:\n",
    "    activity_count = {}  \n",
    "\n",
    "    for act in activity:\n",
    "        act_count = data[(data['date'] == d) & (data['activity'] == act)].shape[0]\n",
    "        activity_count[act] = act_count\n",
    "\n",
    "    datewise_activity[d] = activity_count\n",
    "\n",
    "# Get the list of activity\n",
    "pick = []\n",
    "place = []\n",
    "\n",
    "for d in datewise_activity:\n",
    "\n",
    "    pick.append((datewise_activity[d])['picked'])\n",
    "    place.append((datewise_activity[d])['placed'])\n",
    "\n",
    "print(pick)\n",
    "print(place)"
   ]
  },
  {
   "cell_type": "code",
   "execution_count": 150,
   "metadata": {},
   "outputs": [],
   "source": [
    "# Get the duration\n",
    "\n",
    "data_16 = data[data['date'] == \"16-01-2024\"]\n",
    "\n",
    "data_17 = data[data['date'] == \"17-01-2024\"]\n",
    "\n",
    "data_18 = data[data['date'] == \"18-01-2024\"]\n",
    "\n",
    "inside_duration = []\n",
    "outside_duration = []\n",
    "\n",
    "for p in positions:\n",
    "\n",
    "    if p == \"inside\":\n",
    "    # Find the maximum and minimum time values\n",
    "        inside_max = max(data_16['time'])\n",
    "        inside_min = min(data_16['time'])\n",
    "    # Convert time objects to datetime objects for subtraction\n",
    "        inside_max_dt = datetime.combine(datetime.today(), inside_max)\n",
    "        inside_min_dt = datetime.combine(datetime.today(), inside_min)\n",
    "    # Calculate the time difference\n",
    "        inside_diff = inside_max_dt - inside_min_dt\n",
    "        inside_duration.append(inside_diff)\n",
    "        \n",
    "    # Find the maximum and minimum time values\n",
    "        inside_max = max(data_17['time'])\n",
    "        inside_min = min(data_17['time'])\n",
    "    # Convert time objects to datetime objects for subtraction\n",
    "        inside_max_dt = datetime.combine(datetime.today(), inside_max)\n",
    "        inside_min_dt = datetime.combine(datetime.today(), inside_min)\n",
    "    # Calculate the time difference\n",
    "        inside_diff = inside_max_dt - inside_min_dt\n",
    "        inside_duration.append(inside_diff)\n",
    "\n",
    "    # Find the maximum and minimum time values\n",
    "        inside_max = max(data_18['time'])\n",
    "        inside_min = min(data_18['time'])\n",
    "    # Convert time objects to datetime objects for subtraction\n",
    "        inside_max_dt = datetime.combine(datetime.today(), inside_max)\n",
    "        inside_min_dt = datetime.combine(datetime.today(), inside_min)\n",
    "    # Calculate the time difference\n",
    "        inside_diff = inside_max_dt - inside_min_dt\n",
    "        inside_duration.append(inside_diff)\n",
    "\n",
    "    elif p == 'outside':\n",
    "    # Find the maximum and minimum time values\n",
    "        outside_max = max(data_16['time'])\n",
    "        outside_min = min(data_16['time'])\n",
    "    # Convert time objects to datetime objects for subtraction\n",
    "        outside_max_dt = datetime.combine(datetime.today(), outside_max)\n",
    "        outside_min_dt = datetime.combine(datetime.today(), outside_min)\n",
    "    # Calculate the time difference\n",
    "        outside_diff = outside_max_dt - outside_min_dt\n",
    "        outside_duration.append(outside_diff)\n",
    "\n",
    "    # Find the maximum and minimum time values\n",
    "        outside_max = max(data_17['time'])\n",
    "        outside_min = min(data_17['time'])\n",
    "    # Convert time objects to datetime objects for subtraction\n",
    "        outside_max_dt = datetime.combine(datetime.today(), outside_max)\n",
    "        outside_min_dt = datetime.combine(datetime.today(), outside_min)\n",
    "    # Calculate the time difference\n",
    "        outside_diff = outside_max_dt - outside_min_dt\n",
    "        outside_duration.append(outside_diff)\n",
    "\n",
    "    # Find the maximum and minimum time values\n",
    "        outside_max = max(data_18['time'])\n",
    "        outside_min = min(data_18['time'])\n",
    "    # Convert time objects to datetime objects for subtraction\n",
    "        outside_max_dt = datetime.combine(datetime.today(), outside_max)\n",
    "        outside_min_dt = datetime.combine(datetime.today(), outside_min)\n",
    "    # Calculate the time difference\n",
    "        outside_diff = outside_max_dt - outside_min_dt\n",
    "        outside_duration.append(outside_diff)\n",
    "                \n",
    "    else:\n",
    "        print(\"Error\")\n",
    "\n",
    "inside_duration = [str(timedelta) for timedelta in inside_duration]\n",
    "outside_duration = [str(timedelta) for timedelta in outside_duration]"
   ]
  },
  {
   "cell_type": "code",
   "execution_count": 151,
   "metadata": {},
   "outputs": [
    {
     "data": {
      "text/plain": [
       "['11:59:00', '11:12:00', '11:48:50']"
      ]
     },
     "execution_count": 151,
     "metadata": {},
     "output_type": "execute_result"
    }
   ],
   "source": [
    "inside_duration"
   ]
  },
  {
   "cell_type": "code",
   "execution_count": 152,
   "metadata": {},
   "outputs": [
    {
     "data": {
      "text/plain": [
       "['11:59:00', '11:12:00', '11:48:50']"
      ]
     },
     "execution_count": 152,
     "metadata": {},
     "output_type": "execute_result"
    }
   ],
   "source": [
    "outside_duration"
   ]
  },
  {
   "cell_type": "markdown",
   "metadata": {},
   "source": [
    "# Final required output"
   ]
  },
  {
   "cell_type": "code",
   "execution_count": 153,
   "metadata": {},
   "outputs": [],
   "source": [
    "output = {'date':sorted(dates), 'pick_activities':pick, 'place_activities':place, 'inside_duration':inside_duration, 'outside_duration':outside_duration}"
   ]
  },
  {
   "cell_type": "code",
   "execution_count": 154,
   "metadata": {},
   "outputs": [],
   "source": [
    "output = pd.DataFrame(output)"
   ]
  },
  {
   "cell_type": "code",
   "execution_count": 155,
   "metadata": {},
   "outputs": [
    {
     "data": {
      "text/html": [
       "<div>\n",
       "<style scoped>\n",
       "    .dataframe tbody tr th:only-of-type {\n",
       "        vertical-align: middle;\n",
       "    }\n",
       "\n",
       "    .dataframe tbody tr th {\n",
       "        vertical-align: top;\n",
       "    }\n",
       "\n",
       "    .dataframe thead th {\n",
       "        text-align: right;\n",
       "    }\n",
       "</style>\n",
       "<table border=\"1\" class=\"dataframe\">\n",
       "  <thead>\n",
       "    <tr style=\"text-align: right;\">\n",
       "      <th></th>\n",
       "      <th>date</th>\n",
       "      <th>pick_activities</th>\n",
       "      <th>place_activities</th>\n",
       "      <th>inside_duration</th>\n",
       "      <th>outside_duration</th>\n",
       "    </tr>\n",
       "  </thead>\n",
       "  <tbody>\n",
       "    <tr>\n",
       "      <th>0</th>\n",
       "      <td>16-01-2024</td>\n",
       "      <td>37</td>\n",
       "      <td>39</td>\n",
       "      <td>11:59:00</td>\n",
       "      <td>11:59:00</td>\n",
       "    </tr>\n",
       "    <tr>\n",
       "      <th>1</th>\n",
       "      <td>17-01-2024</td>\n",
       "      <td>10</td>\n",
       "      <td>9</td>\n",
       "      <td>11:12:00</td>\n",
       "      <td>11:12:00</td>\n",
       "    </tr>\n",
       "    <tr>\n",
       "      <th>2</th>\n",
       "      <td>18-01-2024</td>\n",
       "      <td>40</td>\n",
       "      <td>40</td>\n",
       "      <td>11:48:50</td>\n",
       "      <td>11:48:50</td>\n",
       "    </tr>\n",
       "  </tbody>\n",
       "</table>\n",
       "</div>"
      ],
      "text/plain": [
       "         date  pick_activities  place_activities inside_duration  \\\n",
       "0  16-01-2024               37                39        11:59:00   \n",
       "1  17-01-2024               10                 9        11:12:00   \n",
       "2  18-01-2024               40                40        11:48:50   \n",
       "\n",
       "  outside_duration  \n",
       "0         11:59:00  \n",
       "1         11:12:00  \n",
       "2         11:48:50  "
      ]
     },
     "execution_count": 155,
     "metadata": {},
     "output_type": "execute_result"
    }
   ],
   "source": [
    "output"
   ]
  }
 ],
 "metadata": {
  "kernelspec": {
   "display_name": "base",
   "language": "python",
   "name": "python3"
  },
  "language_info": {
   "codemirror_mode": {
    "name": "ipython",
    "version": 3
   },
   "file_extension": ".py",
   "mimetype": "text/x-python",
   "name": "python",
   "nbconvert_exporter": "python",
   "pygments_lexer": "ipython3",
   "version": "3.11.4"
  }
 },
 "nbformat": 4,
 "nbformat_minor": 2
}
