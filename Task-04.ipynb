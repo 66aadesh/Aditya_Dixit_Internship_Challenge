{
 "cells": [
  {
   "cell_type": "markdown",
   "metadata": {},
   "source": [
    "# Using Flask to show the output of all three Tasks"
   ]
  },
  {
   "cell_type": "markdown",
   "metadata": {},
   "source": [
    "# Installing Flask"
   ]
  },
  {
   "cell_type": "code",
   "execution_count": 9,
   "metadata": {},
   "outputs": [],
   "source": [
    "# !pip install flask"
   ]
  },
  {
   "cell_type": "markdown",
   "metadata": {},
   "source": [
    "# Import Library"
   ]
  },
  {
   "cell_type": "code",
   "execution_count": 10,
   "metadata": {},
   "outputs": [],
   "source": [
    "from flask import Flask"
   ]
  },
  {
   "cell_type": "markdown",
   "metadata": {},
   "source": [
    "# Start the flask main code"
   ]
  },
  {
   "cell_type": "code",
   "execution_count": 11,
   "metadata": {},
   "outputs": [],
   "source": [
    "# content to be displayed\n",
    "content = '''\n",
    "<!DOCTYPE html>\n",
    "<html lang=\"en\">\n",
    "<head>\n",
    "    <meta charset=\"UTF-8\">\n",
    "    <meta name=\"viewport\" content=\"width=device-width, initial-scale=1.0\">\n",
    "    <title>Output of All Tasks - 10-02-2024</title>\n",
    "</head>\n",
    "<body>\n",
    "    <h2>OUTPUT OF ALL TASKS - 10-02-2024</h2>\n",
    "\n",
    "    <h3>TASK-01</h3>\n",
    "    <table border=\"1\">\n",
    "        <tr>\n",
    "            <th>input_1</th>\n",
    "            <th>input_2</th>\n",
    "            <th>input_3</th>\n",
    "            <th>input_4</th>\n",
    "            <th>input_5</th>\n",
    "            <th>input_6</th>\n",
    "            <th>input_7</th>\n",
    "            <th>input_8</th>\n",
    "            <th>input_9</th>\n",
    "            <th>input_10</th>\n",
    "            <th>input_11</th>\n",
    "            <th>input_12</th>\n",
    "            <th>input_13</th>\n",
    "            <th>input_14</th>\n",
    "            <th>input_15</th>\n",
    "            <th>input_16</th>\n",
    "            <th>input_17</th>\n",
    "            <th>input_18</th>\n",
    "            <th>predicted_cluster</th>\n",
    "        </tr>\n",
    "        <tr>\n",
    "            <td>40</td>\n",
    "            <td>48</td>\n",
    "            <td>66</td>\n",
    "            <td>59</td>\n",
    "            <td>85</td>\n",
    "            <td>95</td>\n",
    "            <td>42</td>\n",
    "            <td>65</td>\n",
    "            <td>71</td>\n",
    "            <td>81</td>\n",
    "            <td>61</td>\n",
    "            <td>59</td>\n",
    "            <td>72</td>\n",
    "            <td>50</td>\n",
    "            <td>61</td>\n",
    "            <td>94</td>\n",
    "            <td>41</td>\n",
    "            <td>39</td>\n",
    "            <td>1</td>\n",
    "        </tr>\n",
    "    </table>\n",
    "\n",
    "    <h3>TASK-02</h3>\n",
    "    <table border=\"1\">\n",
    "        <tr>\n",
    "            <th>ACCURACY</th>\n",
    "            <th>K NEAREST NEIGHBOURS</th>\n",
    "            <th>RANDOM FOREST</th>\n",
    "        </tr>\n",
    "        <tr>\n",
    "            <td></td>\n",
    "            <td>98.34036186</td>\n",
    "            <td>98.39477622</td>\n",
    "        </tr>\n",
    "    </table>\n",
    "\n",
    "    <h3>TASK-03</h3>\n",
    "    <table border=\"1\">\n",
    "        <tr>\n",
    "            <th>date</th>\n",
    "            <th>pick_activities</th>\n",
    "            <th>place_activities</th>\n",
    "            <th>inside_duration</th>\n",
    "            <th>outside_duration</th>\n",
    "        </tr>\n",
    "        <tr>\n",
    "            <td>16-01-2024</td>\n",
    "            <td>37</td>\n",
    "            <td>39</td>\n",
    "            <td>11:59:00</td>\n",
    "            <td>0</td>\n",
    "        </tr>\n",
    "        <tr>\n",
    "            <td>17-01-2024</td>\n",
    "            <td>40</td>\n",
    "            <td>40</td>\n",
    "            <td>11:12:00</td>\n",
    "            <td>0</td>\n",
    "        </tr>\n",
    "        <tr>\n",
    "            <td>18-01-2024</td>\n",
    "            <td>10</td>\n",
    "            <td>9</td>\n",
    "            <td>11:42:50</td>\n",
    "            <td>10:10:50</td>\n",
    "        </tr>\n",
    "    </table>\n",
    "</body>\n",
    "</html>\n",
    "'''"
   ]
  },
  {
   "cell_type": "code",
   "execution_count": 12,
   "metadata": {},
   "outputs": [
    {
     "name": "stdout",
     "output_type": "stream",
     "text": [
      " * Serving Flask app '__main__'\n",
      " * Debug mode: off\n"
     ]
    },
    {
     "name": "stderr",
     "output_type": "stream",
     "text": [
      "WARNING: This is a development server. Do not use it in a production deployment. Use a production WSGI server instead.\n",
      " * Running on all addresses (0.0.0.0)\n",
      " * Running on http://127.0.0.1:5000\n",
      " * Running on http://192.168.60.71:5000\n",
      "Press CTRL+C to quit\n",
      "127.0.0.1 - - [11/Feb/2024 00:09:26] \"GET / HTTP/1.1\" 200 -\n",
      "127.0.0.1 - - [11/Feb/2024 00:09:26] \"GET /favicon.ico HTTP/1.1\" 404 -\n"
     ]
    }
   ],
   "source": [
    "# Flaskinstance\n",
    "app = Flask(__name__)\n",
    "\n",
    "# Route for the home page\n",
    "@app.route('/')\n",
    "\n",
    "def display_output():\n",
    "    return content\n",
    "\n",
    "if __name__ == '__main__':\n",
    "    # Run \n",
    "    app.run(host='0.0.0.0', port=5000, debug=False)\n"
   ]
  }
 ],
 "metadata": {
  "kernelspec": {
   "display_name": "base",
   "language": "python",
   "name": "python3"
  },
  "language_info": {
   "codemirror_mode": {
    "name": "ipython",
    "version": 3
   },
   "file_extension": ".py",
   "mimetype": "text/x-python",
   "name": "python",
   "nbconvert_exporter": "python",
   "pygments_lexer": "ipython3",
   "version": "3.11.4"
  }
 },
 "nbformat": 4,
 "nbformat_minor": 2
}
